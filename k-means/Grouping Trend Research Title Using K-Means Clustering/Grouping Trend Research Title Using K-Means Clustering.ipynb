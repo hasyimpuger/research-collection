{
 "cells": [
  {
   "cell_type": "markdown",
   "metadata": {},
   "source": [
    "### Import Library"
   ]
  },
  {
   "cell_type": "code",
   "execution_count": 23,
   "metadata": {},
   "outputs": [],
   "source": [
    "from vectorizer import getClusterFromKMeans\n",
    "from Sastrawi.Stemmer.StemmerFactory import StemmerFactory\n",
    "from Sastrawi.StopWordRemover.StopWordRemoverFactory import StopWordRemoverFactory\n",
    "from random import shuffle\n",
    "import pandas as pd\n",
    "\n",
    "remover= StopWordRemoverFactory().create_stop_word_remover()\n",
    "stemmer= StemmerFactory().create_stemmer()\n",
    "factory = StopWordRemoverFactory()\n",
    "stopword = factory.create_stop_word_remover()\n",
    "\n",
    "def preprocess(text):\n",
    "    text = text.lower()\n",
    "    text_clean = remover.remove(text)\n",
    "    text_stem = stemmer.stem(text_clean)\n",
    "    return text_stem"
   ]
  },
  {
   "cell_type": "markdown",
   "metadata": {},
   "source": [
    "### Load Dataset"
   ]
  },
  {
   "cell_type": "code",
   "execution_count": 24,
   "metadata": {},
   "outputs": [
    {
     "data": {
      "text/html": [
       "<div>\n",
       "<style scoped>\n",
       "    .dataframe tbody tr th:only-of-type {\n",
       "        vertical-align: middle;\n",
       "    }\n",
       "\n",
       "    .dataframe tbody tr th {\n",
       "        vertical-align: top;\n",
       "    }\n",
       "\n",
       "    .dataframe thead th {\n",
       "        text-align: right;\n",
       "    }\n",
       "</style>\n",
       "<table border=\"1\" class=\"dataframe\">\n",
       "  <thead>\n",
       "    <tr style=\"text-align: right;\">\n",
       "      <th></th>\n",
       "      <th>no</th>\n",
       "      <th>nim</th>\n",
       "      <th>nama</th>\n",
       "      <th>judul</th>\n",
       "      <th>Date</th>\n",
       "      <th>tahun</th>\n",
       "    </tr>\n",
       "  </thead>\n",
       "  <tbody>\n",
       "    <tr>\n",
       "      <th>0</th>\n",
       "      <td>1</td>\n",
       "      <td>8019001</td>\n",
       "      <td>AGUS DWI KRISTIYANTO</td>\n",
       "      <td>Analisis Pengaruh Kualitas Produk  dan Kualita...</td>\n",
       "      <td>2014-07-06 00:00:00</td>\n",
       "      <td>Genap 2013</td>\n",
       "    </tr>\n",
       "    <tr>\n",
       "      <th>1</th>\n",
       "      <td>2</td>\n",
       "      <td>8019002</td>\n",
       "      <td>ARIEF WICAKSONO</td>\n",
       "      <td>Perancangan Alat Press Produk Placemat Berbaha...</td>\n",
       "      <td>2013-10-07 00:00:00</td>\n",
       "      <td>Genap 2012</td>\n",
       "    </tr>\n",
       "    <tr>\n",
       "      <th>2</th>\n",
       "      <td>3</td>\n",
       "      <td>8019003</td>\n",
       "      <td>TRI NOVI ANDRIANTORO</td>\n",
       "      <td>Perancangan Ulang Alat Pengepres Sandal Dengan...</td>\n",
       "      <td>19-06-2014</td>\n",
       "      <td>Genap 2013</td>\n",
       "    </tr>\n",
       "    <tr>\n",
       "      <th>3</th>\n",
       "      <td>4</td>\n",
       "      <td>8019005</td>\n",
       "      <td>ALFAHMI</td>\n",
       "      <td>Perancangan Ulang Alat Press Sol Sandal Kulit ...</td>\n",
       "      <td>2015-04-02 00:00:00</td>\n",
       "      <td>Gasal 2014</td>\n",
       "    </tr>\n",
       "    <tr>\n",
       "      <th>4</th>\n",
       "      <td>5</td>\n",
       "      <td>8019006</td>\n",
       "      <td>DIAN RIYADI</td>\n",
       "      <td>Pengendalian Kualitas dalam Upaya Menekan Ting...</td>\n",
       "      <td>2013-09-12 00:00:00</td>\n",
       "      <td>Gasal 2013</td>\n",
       "    </tr>\n",
       "    <tr>\n",
       "      <th>5</th>\n",
       "      <td>6</td>\n",
       "      <td>8019008</td>\n",
       "      <td>YAHYA HASAN</td>\n",
       "      <td>Analisis Faktor-Faktor yang Mempengaruhi Kepua...</td>\n",
       "      <td>29-11-2014</td>\n",
       "      <td>Gasal 2014</td>\n",
       "    </tr>\n",
       "    <tr>\n",
       "      <th>6</th>\n",
       "      <td>7</td>\n",
       "      <td>8019009</td>\n",
       "      <td>DITO AULIA DHARMAWAN GUFRON</td>\n",
       "      <td>Faktor Penghambat dan faktor Pendorong yang Me...</td>\n",
       "      <td>19-10-2013</td>\n",
       "      <td>Gasal 2013</td>\n",
       "    </tr>\n",
       "    <tr>\n",
       "      <th>7</th>\n",
       "      <td>8</td>\n",
       "      <td>8019010</td>\n",
       "      <td>NUR CIPTA UMBARA</td>\n",
       "      <td>Perancangan Ulang Whellbarrow Roda 3 dengan Pe...</td>\n",
       "      <td>27-07-2013</td>\n",
       "      <td>Gasal 2013</td>\n",
       "    </tr>\n",
       "    <tr>\n",
       "      <th>8</th>\n",
       "      <td>9</td>\n",
       "      <td>8019011</td>\n",
       "      <td>TRIYANTO</td>\n",
       "      <td>Peningkatan Kualitas Pelayanan Jasa Olah Raga ...</td>\n",
       "      <td>15-11-2014</td>\n",
       "      <td>Gasal 2014</td>\n",
       "    </tr>\n",
       "    <tr>\n",
       "      <th>9</th>\n",
       "      <td>10</td>\n",
       "      <td>8019016</td>\n",
       "      <td>NASRUL ARIFIN</td>\n",
       "      <td>Analisis SWOT Sebagai Dasar Perumusan Strategi...</td>\n",
       "      <td>2014-12-11 00:00:00</td>\n",
       "      <td>Gasal 2014</td>\n",
       "    </tr>\n",
       "  </tbody>\n",
       "</table>\n",
       "</div>"
      ],
      "text/plain": [
       "   no      nim                         nama  \\\n",
       "0   1  8019001         AGUS DWI KRISTIYANTO   \n",
       "1   2  8019002              ARIEF WICAKSONO   \n",
       "2   3  8019003         TRI NOVI ANDRIANTORO   \n",
       "3   4  8019005                      ALFAHMI   \n",
       "4   5  8019006                  DIAN RIYADI   \n",
       "5   6  8019008                  YAHYA HASAN   \n",
       "6   7  8019009  DITO AULIA DHARMAWAN GUFRON   \n",
       "7   8  8019010             NUR CIPTA UMBARA   \n",
       "8   9  8019011                     TRIYANTO   \n",
       "9  10  8019016                NASRUL ARIFIN   \n",
       "\n",
       "                                               judul                 Date  \\\n",
       "0  Analisis Pengaruh Kualitas Produk  dan Kualita...  2014-07-06 00:00:00   \n",
       "1  Perancangan Alat Press Produk Placemat Berbaha...  2013-10-07 00:00:00   \n",
       "2  Perancangan Ulang Alat Pengepres Sandal Dengan...           19-06-2014   \n",
       "3  Perancangan Ulang Alat Press Sol Sandal Kulit ...  2015-04-02 00:00:00   \n",
       "4  Pengendalian Kualitas dalam Upaya Menekan Ting...  2013-09-12 00:00:00   \n",
       "5  Analisis Faktor-Faktor yang Mempengaruhi Kepua...           29-11-2014   \n",
       "6  Faktor Penghambat dan faktor Pendorong yang Me...           19-10-2013   \n",
       "7  Perancangan Ulang Whellbarrow Roda 3 dengan Pe...           27-07-2013   \n",
       "8  Peningkatan Kualitas Pelayanan Jasa Olah Raga ...           15-11-2014   \n",
       "9  Analisis SWOT Sebagai Dasar Perumusan Strategi...  2014-12-11 00:00:00   \n",
       "\n",
       "        tahun  \n",
       "0  Genap 2013  \n",
       "1  Genap 2012  \n",
       "2  Genap 2013  \n",
       "3  Gasal 2014  \n",
       "4  Gasal 2013  \n",
       "5  Gasal 2014  \n",
       "6  Gasal 2013  \n",
       "7  Gasal 2013  \n",
       "8  Gasal 2014  \n",
       "9  Gasal 2014  "
      ]
     },
     "execution_count": 24,
     "metadata": {},
     "output_type": "execute_result"
    }
   ],
   "source": [
    "dataset = pd.read_excel(\"dataset.xlsx\")\n",
    "dataset.head(10)"
   ]
  },
  {
   "cell_type": "markdown",
   "metadata": {},
   "source": [
    "### Get Preprocessing Titles"
   ]
  },
  {
   "cell_type": "code",
   "execution_count": 25,
   "metadata": {},
   "outputs": [
    {
     "data": {
      "text/plain": [
       "['analisis pengaruh kualitas produk kualitas layan puas langgan guna analisis regresi linier ganda studi kasus cafe semesta kota baru yogyakarta',\n",
       " 'ancang alat press produk placemat bahan enceng gondok dekat ergonomi kurang cacat produk tingkat produktivitas',\n",
       " 'ancang ulang alat pres sandal dekat ergonomi baik posisi kerja tingkat output kurang tingkat cacat produk',\n",
       " 'ancang ulang alat press sol sandal kulit dekat ergonomi tingkat produktivitas stasiun pres studi kasus ukm marlan s jln nyi adisoro i depo yogyakarta',\n",
       " 'kendali kualitas upaya tekan tingkat cacat produksi sama kulit guna alat bantu statistik',\n",
       " 'analisis faktor pengaruh puas konsumen pamela futsal',\n",
       " 'faktor hambat faktor dorong pengaruh niat beli langgan belanja online situs jual beli online guna metode structural equation modelling sem',\n",
       " 'ancang ulang whellbarrow roda 3 dekat data antropometri',\n",
       " 'tingkat kualitas layan jasa olah raga guna metode servqual studi arena futsal milir united yogyakarta',\n",
       " 'analisis swot dasar rumus strategi usaha daya saing']"
      ]
     },
     "execution_count": 25,
     "metadata": {},
     "output_type": "execute_result"
    }
   ],
   "source": [
    "titles = list()\n",
    "for text in dataset['judul'][:10]:\n",
    "    titles.append(preprocess(text))\n",
    "titles"
   ]
  },
  {
   "cell_type": "markdown",
   "metadata": {},
   "source": [
    "### Call K-Means Library"
   ]
  },
  {
   "cell_type": "code",
   "execution_count": 26,
   "metadata": {},
   "outputs": [],
   "source": [
    "clusters = lambda: getClusterFromKMeans(titles, 3)"
   ]
  },
  {
   "cell_type": "markdown",
   "metadata": {},
   "source": [
    "### Naming Columns for Dataframe"
   ]
  },
  {
   "cell_type": "code",
   "execution_count": 27,
   "metadata": {},
   "outputs": [],
   "source": [
    "columns = list()\n",
    "for i, data in enumerate(clusters()):\n",
    "    columns.append(\"Cluster \" + str(i))"
   ]
  },
  {
   "cell_type": "markdown",
   "metadata": {},
   "source": [
    "### Representation to Dataframe"
   ]
  },
  {
   "cell_type": "code",
   "execution_count": 28,
   "metadata": {},
   "outputs": [
    {
     "data": {
      "text/html": [
       "<div>\n",
       "<style scoped>\n",
       "    .dataframe tbody tr th:only-of-type {\n",
       "        vertical-align: middle;\n",
       "    }\n",
       "\n",
       "    .dataframe tbody tr th {\n",
       "        vertical-align: top;\n",
       "    }\n",
       "\n",
       "    .dataframe thead th {\n",
       "        text-align: right;\n",
       "    }\n",
       "</style>\n",
       "<table border=\"1\" class=\"dataframe\">\n",
       "  <thead>\n",
       "    <tr style=\"text-align: right;\">\n",
       "      <th></th>\n",
       "      <th>Cluster 0</th>\n",
       "      <th>Cluster 1</th>\n",
       "      <th>Cluster 2</th>\n",
       "    </tr>\n",
       "  </thead>\n",
       "  <tbody>\n",
       "    <tr>\n",
       "      <th>0</th>\n",
       "      <td>analisis faktor pengaruh puas konsumen pamela ...</td>\n",
       "      <td>ancang alat press produk placemat bahan enceng...</td>\n",
       "      <td>analisis pengaruh kualitas produk kualitas lay...</td>\n",
       "    </tr>\n",
       "    <tr>\n",
       "      <th>1</th>\n",
       "      <td>faktor hambat faktor dorong pengaruh niat beli...</td>\n",
       "      <td>ancang ulang alat pres sandal dekat ergonomi b...</td>\n",
       "      <td>analisis swot dasar rumus strategi usaha daya ...</td>\n",
       "    </tr>\n",
       "    <tr>\n",
       "      <th>2</th>\n",
       "      <td>None</td>\n",
       "      <td>ancang ulang alat press sol sandal kulit dekat...</td>\n",
       "      <td>None</td>\n",
       "    </tr>\n",
       "    <tr>\n",
       "      <th>3</th>\n",
       "      <td>None</td>\n",
       "      <td>kendali kualitas upaya tekan tingkat cacat pro...</td>\n",
       "      <td>None</td>\n",
       "    </tr>\n",
       "    <tr>\n",
       "      <th>4</th>\n",
       "      <td>None</td>\n",
       "      <td>ancang ulang whellbarrow roda 3 dekat data ant...</td>\n",
       "      <td>None</td>\n",
       "    </tr>\n",
       "    <tr>\n",
       "      <th>5</th>\n",
       "      <td>None</td>\n",
       "      <td>tingkat kualitas layan jasa olah raga guna met...</td>\n",
       "      <td>None</td>\n",
       "    </tr>\n",
       "  </tbody>\n",
       "</table>\n",
       "</div>"
      ],
      "text/plain": [
       "                                           Cluster 0  \\\n",
       "0  analisis faktor pengaruh puas konsumen pamela ...   \n",
       "1  faktor hambat faktor dorong pengaruh niat beli...   \n",
       "2                                               None   \n",
       "3                                               None   \n",
       "4                                               None   \n",
       "5                                               None   \n",
       "\n",
       "                                           Cluster 1  \\\n",
       "0  ancang alat press produk placemat bahan enceng...   \n",
       "1  ancang ulang alat pres sandal dekat ergonomi b...   \n",
       "2  ancang ulang alat press sol sandal kulit dekat...   \n",
       "3  kendali kualitas upaya tekan tingkat cacat pro...   \n",
       "4  ancang ulang whellbarrow roda 3 dekat data ant...   \n",
       "5  tingkat kualitas layan jasa olah raga guna met...   \n",
       "\n",
       "                                           Cluster 2  \n",
       "0  analisis pengaruh kualitas produk kualitas lay...  \n",
       "1  analisis swot dasar rumus strategi usaha daya ...  \n",
       "2                                               None  \n",
       "3                                               None  \n",
       "4                                               None  \n",
       "5                                               None  "
      ]
     },
     "execution_count": 28,
     "metadata": {},
     "output_type": "execute_result"
    }
   ],
   "source": [
    "df = pd.DataFrame(list(clusters())).T\n",
    "df.columns = columns\n",
    "df"
   ]
  }
 ],
 "metadata": {
  "kernelspec": {
   "display_name": "Python 3",
   "language": "python",
   "name": "python3"
  },
  "language_info": {
   "codemirror_mode": {
    "name": "ipython",
    "version": 3
   },
   "file_extension": ".py",
   "mimetype": "text/x-python",
   "name": "python",
   "nbconvert_exporter": "python",
   "pygments_lexer": "ipython3",
   "version": "3.7.1"
  }
 },
 "nbformat": 4,
 "nbformat_minor": 2
}
